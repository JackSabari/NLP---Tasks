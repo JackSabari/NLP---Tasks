{
  "cells": [
    {
      "cell_type": "code",
      "source": [
        "pip install translate\n"
      ],
      "metadata": {
        "colab": {
          "base_uri": "https://localhost:8080/"
        },
        "id": "7R-q-nmPNTPf",
        "outputId": "a390782e-bd67-44fc-a009-bda071738125"
      },
      "execution_count": 1,
      "outputs": [
        {
          "output_type": "stream",
          "name": "stdout",
          "text": [
            "Looking in indexes: https://pypi.org/simple, https://us-python.pkg.dev/colab-wheels/public/simple/\n",
            "Collecting translate\n",
            "  Downloading translate-3.6.1-py2.py3-none-any.whl (12 kB)\n",
            "Requirement already satisfied: click in /usr/local/lib/python3.8/dist-packages (from translate) (7.1.2)\n",
            "Collecting libretranslatepy==2.1.1\n",
            "  Downloading libretranslatepy-2.1.1-py3-none-any.whl (3.2 kB)\n",
            "Requirement already satisfied: lxml in /usr/local/lib/python3.8/dist-packages (from translate) (4.9.2)\n",
            "Requirement already satisfied: requests in /usr/local/lib/python3.8/dist-packages (from translate) (2.25.1)\n",
            "Requirement already satisfied: urllib3<1.27,>=1.21.1 in /usr/local/lib/python3.8/dist-packages (from requests->translate) (1.24.3)\n",
            "Requirement already satisfied: certifi>=2017.4.17 in /usr/local/lib/python3.8/dist-packages (from requests->translate) (2022.12.7)\n",
            "Requirement already satisfied: chardet<5,>=3.0.2 in /usr/local/lib/python3.8/dist-packages (from requests->translate) (4.0.0)\n",
            "Requirement already satisfied: idna<3,>=2.5 in /usr/local/lib/python3.8/dist-packages (from requests->translate) (2.10)\n",
            "Installing collected packages: libretranslatepy, translate\n",
            "Successfully installed libretranslatepy-2.1.1 translate-3.6.1\n"
          ]
        }
      ]
    },
    {
      "cell_type": "markdown",
      "metadata": {
        "id": "gL3FVgpGMrbs"
      },
      "source": [
        "**Import Libraries**"
      ]
    },
    {
      "cell_type": "code",
      "execution_count": 122,
      "metadata": {
        "id": "6hXo5FhOvRjE"
      },
      "outputs": [],
      "source": [
        "import pandas as pd\n",
        "import nltk\n",
        "import spacy\n",
        "import textblob\n",
        "import re\n",
        "from translate import Translator\n",
        "from tabulate import tabulate"
      ]
    },
    {
      "cell_type": "code",
      "execution_count": 123,
      "metadata": {
        "colab": {
          "base_uri": "https://localhost:8080/"
        },
        "id": "bw4BsrymTDYP",
        "outputId": "0e52de91-5c7a-4891-f3b7-ff9e54162d5f"
      },
      "outputs": [
        {
          "output_type": "stream",
          "name": "stderr",
          "text": [
            "[nltk_data] Downloading package punkt to /root/nltk_data...\n",
            "[nltk_data]   Package punkt is already up-to-date!\n"
          ]
        },
        {
          "output_type": "execute_result",
          "data": {
            "text/plain": [
              "True"
            ]
          },
          "metadata": {},
          "execution_count": 123
        }
      ],
      "source": [
        "nltk.download('punkt')"
      ]
    },
    {
      "cell_type": "code",
      "execution_count": 124,
      "metadata": {
        "id": "DOZkPdiWMq8M"
      },
      "outputs": [],
      "source": [
        "df=pd.read_csv('English.csv')"
      ]
    },
    {
      "cell_type": "code",
      "execution_count": 125,
      "metadata": {
        "id": "lgv_MJguNRyw",
        "colab": {
          "base_uri": "https://localhost:8080/",
          "height": 206
        },
        "outputId": "83999119-c60e-499d-da49-16286a2668ee"
      },
      "outputs": [
        {
          "output_type": "execute_result",
          "data": {
            "text/plain": [
              "  English words/sentences\n",
              "0                     Hi.\n",
              "1                    Run!\n",
              "2                    Run!\n",
              "3                    Who?\n",
              "4                    Wow!"
            ],
            "text/html": [
              "\n",
              "  <div id=\"df-ad48390f-f644-4672-b72c-19e9f2ab4675\">\n",
              "    <div class=\"colab-df-container\">\n",
              "      <div>\n",
              "<style scoped>\n",
              "    .dataframe tbody tr th:only-of-type {\n",
              "        vertical-align: middle;\n",
              "    }\n",
              "\n",
              "    .dataframe tbody tr th {\n",
              "        vertical-align: top;\n",
              "    }\n",
              "\n",
              "    .dataframe thead th {\n",
              "        text-align: right;\n",
              "    }\n",
              "</style>\n",
              "<table border=\"1\" class=\"dataframe\">\n",
              "  <thead>\n",
              "    <tr style=\"text-align: right;\">\n",
              "      <th></th>\n",
              "      <th>English words/sentences</th>\n",
              "    </tr>\n",
              "  </thead>\n",
              "  <tbody>\n",
              "    <tr>\n",
              "      <th>0</th>\n",
              "      <td>Hi.</td>\n",
              "    </tr>\n",
              "    <tr>\n",
              "      <th>1</th>\n",
              "      <td>Run!</td>\n",
              "    </tr>\n",
              "    <tr>\n",
              "      <th>2</th>\n",
              "      <td>Run!</td>\n",
              "    </tr>\n",
              "    <tr>\n",
              "      <th>3</th>\n",
              "      <td>Who?</td>\n",
              "    </tr>\n",
              "    <tr>\n",
              "      <th>4</th>\n",
              "      <td>Wow!</td>\n",
              "    </tr>\n",
              "  </tbody>\n",
              "</table>\n",
              "</div>\n",
              "      <button class=\"colab-df-convert\" onclick=\"convertToInteractive('df-ad48390f-f644-4672-b72c-19e9f2ab4675')\"\n",
              "              title=\"Convert this dataframe to an interactive table.\"\n",
              "              style=\"display:none;\">\n",
              "        \n",
              "  <svg xmlns=\"http://www.w3.org/2000/svg\" height=\"24px\"viewBox=\"0 0 24 24\"\n",
              "       width=\"24px\">\n",
              "    <path d=\"M0 0h24v24H0V0z\" fill=\"none\"/>\n",
              "    <path d=\"M18.56 5.44l.94 2.06.94-2.06 2.06-.94-2.06-.94-.94-2.06-.94 2.06-2.06.94zm-11 1L8.5 8.5l.94-2.06 2.06-.94-2.06-.94L8.5 2.5l-.94 2.06-2.06.94zm10 10l.94 2.06.94-2.06 2.06-.94-2.06-.94-.94-2.06-.94 2.06-2.06.94z\"/><path d=\"M17.41 7.96l-1.37-1.37c-.4-.4-.92-.59-1.43-.59-.52 0-1.04.2-1.43.59L10.3 9.45l-7.72 7.72c-.78.78-.78 2.05 0 2.83L4 21.41c.39.39.9.59 1.41.59.51 0 1.02-.2 1.41-.59l7.78-7.78 2.81-2.81c.8-.78.8-2.07 0-2.86zM5.41 20L4 18.59l7.72-7.72 1.47 1.35L5.41 20z\"/>\n",
              "  </svg>\n",
              "      </button>\n",
              "      \n",
              "  <style>\n",
              "    .colab-df-container {\n",
              "      display:flex;\n",
              "      flex-wrap:wrap;\n",
              "      gap: 12px;\n",
              "    }\n",
              "\n",
              "    .colab-df-convert {\n",
              "      background-color: #E8F0FE;\n",
              "      border: none;\n",
              "      border-radius: 50%;\n",
              "      cursor: pointer;\n",
              "      display: none;\n",
              "      fill: #1967D2;\n",
              "      height: 32px;\n",
              "      padding: 0 0 0 0;\n",
              "      width: 32px;\n",
              "    }\n",
              "\n",
              "    .colab-df-convert:hover {\n",
              "      background-color: #E2EBFA;\n",
              "      box-shadow: 0px 1px 2px rgba(60, 64, 67, 0.3), 0px 1px 3px 1px rgba(60, 64, 67, 0.15);\n",
              "      fill: #174EA6;\n",
              "    }\n",
              "\n",
              "    [theme=dark] .colab-df-convert {\n",
              "      background-color: #3B4455;\n",
              "      fill: #D2E3FC;\n",
              "    }\n",
              "\n",
              "    [theme=dark] .colab-df-convert:hover {\n",
              "      background-color: #434B5C;\n",
              "      box-shadow: 0px 1px 3px 1px rgba(0, 0, 0, 0.15);\n",
              "      filter: drop-shadow(0px 1px 2px rgba(0, 0, 0, 0.3));\n",
              "      fill: #FFFFFF;\n",
              "    }\n",
              "  </style>\n",
              "\n",
              "      <script>\n",
              "        const buttonEl =\n",
              "          document.querySelector('#df-ad48390f-f644-4672-b72c-19e9f2ab4675 button.colab-df-convert');\n",
              "        buttonEl.style.display =\n",
              "          google.colab.kernel.accessAllowed ? 'block' : 'none';\n",
              "\n",
              "        async function convertToInteractive(key) {\n",
              "          const element = document.querySelector('#df-ad48390f-f644-4672-b72c-19e9f2ab4675');\n",
              "          const dataTable =\n",
              "            await google.colab.kernel.invokeFunction('convertToInteractive',\n",
              "                                                     [key], {});\n",
              "          if (!dataTable) return;\n",
              "\n",
              "          const docLinkHtml = 'Like what you see? Visit the ' +\n",
              "            '<a target=\"_blank\" href=https://colab.research.google.com/notebooks/data_table.ipynb>data table notebook</a>'\n",
              "            + ' to learn more about interactive tables.';\n",
              "          element.innerHTML = '';\n",
              "          dataTable['output_type'] = 'display_data';\n",
              "          await google.colab.output.renderOutput(dataTable, element);\n",
              "          const docLink = document.createElement('div');\n",
              "          docLink.innerHTML = docLinkHtml;\n",
              "          element.appendChild(docLink);\n",
              "        }\n",
              "      </script>\n",
              "    </div>\n",
              "  </div>\n",
              "  "
            ]
          },
          "metadata": {},
          "execution_count": 125
        }
      ],
      "source": [
        "df.head()    "
      ]
    },
    {
      "cell_type": "markdown",
      "source": [
        "**Remove Non-Alpha Numeric Characters**"
      ],
      "metadata": {
        "id": "ARBzUddeEFiM"
      }
    },
    {
      "cell_type": "code",
      "source": [
        "val=df.values.tolist()\n",
        "listOfvalues=[]\n",
        "for elem in val:\n",
        "  for elem1 in elem:\n",
        "    filteredText=re.sub('[^A-Za-z0-9]+', ' ',elem1)\n",
        "    listOfvalues.append(filteredText)\n",
        "cleaned_val=pd.DataFrame(listOfvalues,columns=['cleaned_text'])"
      ],
      "metadata": {
        "id": "33kt8uSpYqMh"
      },
      "execution_count": 126,
      "outputs": []
    },
    {
      "cell_type": "markdown",
      "source": [
        "**Remove Duplicates**"
      ],
      "metadata": {
        "id": "P4swqqWHEITr"
      }
    },
    {
      "cell_type": "code",
      "source": [
        "uniq_df=pd.DataFrame(pd.unique(cleaned_val['cleaned_text']),columns=['cleaned_text'])\n",
        "print(uniq_df.head(15))"
      ],
      "metadata": {
        "colab": {
          "base_uri": "https://localhost:8080/"
        },
        "id": "ATxF-idCdVFK",
        "outputId": "a097e3f4-3683-4a8e-c0ec-ef12073d3073"
      },
      "execution_count": 127,
      "outputs": [
        {
          "output_type": "stream",
          "name": "stdout",
          "text": [
            "   cleaned_text\n",
            "0           Hi \n",
            "1          Run \n",
            "2          Who \n",
            "3          Wow \n",
            "4         Fire \n",
            "5         Help \n",
            "6         Jump \n",
            "7         Stop \n",
            "8         Wait \n",
            "9        Go on \n",
            "10       Hello \n",
            "11       I see \n",
            "12       I try \n",
            "13       I won \n",
            "14       Oh no \n"
          ]
        }
      ]
    },
    {
      "cell_type": "markdown",
      "source": [
        "**Translate**"
      ],
      "metadata": {
        "id": "pI3Xd1P2ENdk"
      }
    },
    {
      "cell_type": "code",
      "source": [
        "\n",
        "new=pd.DataFrame()\n",
        "def gen_dunc(df_val,dest,lang):\n",
        "  german_trans=Translator(to_lang=dest)\n",
        "  uniq_df[lang]=df_val.apply(lambda x: german_trans.translate(x))\n",
        "  return uniq_df[lang].head(15)\n",
        "\n",
        "for dest,lang in zip(['de','es','fr'],['German','Spanish','French']):\n",
        "  x1=gen_dunc(uniq_df['cleaned_text'].head(15),dest,lang)\n",
        "  new=new.append(x1)\n",
        "data1=new.T\n",
        "data1=data1.join(uniq_df['cleaned_text'].head(15))\n",
        "print('\\tTranslate English to German, Spanish and French\\n','\\t##############################################\\n')\n",
        "print(tabulate(data1,tablefmt='fancy_grid',headers=['German_trans','Spanish_trans','French_trans','English_src']))"
      ],
      "metadata": {
        "colab": {
          "base_uri": "https://localhost:8080/"
        },
        "id": "0tze_u2QMMUu",
        "outputId": "a73c96b0-0cf8-4483-8884-ec219c459efa"
      },
      "execution_count": 128,
      "outputs": [
        {
          "output_type": "stream",
          "name": "stdout",
          "text": [
            "\tTranslate English to German, Spanish and French\n",
            " \t##############################################\n",
            "\n",
            "╒════╤═════════════════════╤══════════════════════╤═════════════════╤═══════════════╕\n",
            "│    │ German_trans        │ Spanish_trans        │ French_trans    │ English_src   │\n",
            "╞════╪═════════════════════╪══════════════════════╪═════════════════╪═══════════════╡\n",
            "│  0 │ Hallo               │ Hola,                │ Bonjour         │ Hi            │\n",
            "├────┼─────────────────────┼──────────────────────┼─────────────────┼───────────────┤\n",
            "│  1 │ Ausführen           │ Corrida              │ Télécharger     │ Run           │\n",
            "├────┼─────────────────────┼──────────────────────┼─────────────────┼───────────────┤\n",
            "│  2 │ Wer                 │ Quién                │ Qui             │ Who           │\n",
            "├────┼─────────────────────┼──────────────────────┼─────────────────┼───────────────┤\n",
            "│  3 │ Wow                 │ Wow                  │ Wow             │ Wow           │\n",
            "├────┼─────────────────────┼──────────────────────┼─────────────────┼───────────────┤\n",
            "│  4 │ Schießen            │ Incendio             │ Incendie        │ Fire          │\n",
            "├────┼─────────────────────┼──────────────────────┼─────────────────┼───────────────┤\n",
            "│  5 │ Hilfe               │ Ayuda                │ Aide            │ Help          │\n",
            "├────┼─────────────────────┼──────────────────────┼─────────────────┼───────────────┤\n",
            "│  6 │ Springen            │ Saltar               │ Oxygène         │ Jump          │\n",
            "├────┼─────────────────────┼──────────────────────┼─────────────────┼───────────────┤\n",
            "│  7 │ Stopp               │ Parar                │ Arrêter         │ Stop          │\n",
            "├────┼─────────────────────┼──────────────────────┼─────────────────┼───────────────┤\n",
            "│  8 │ Warte               │ Espera               │ Salle d’attente │ Wait          │\n",
            "├────┼─────────────────────┼──────────────────────┼─────────────────┼───────────────┤\n",
            "│  9 │ Bitte weiter        │ Continuar escuchando │ Continuez       │ Go on         │\n",
            "├────┼─────────────────────┼──────────────────────┼─────────────────┼───────────────┤\n",
            "│ 10 │ Hallo               │ Hola                 │ Bonjour         │ Hello         │\n",
            "├────┼─────────────────────┼──────────────────────┼─────────────────┼───────────────┤\n",
            "│ 11 │ Ich verstehe        │ Veo                  │ Je vois         │ I see         │\n",
            "├────┼─────────────────────┼──────────────────────┼─────────────────┼───────────────┤\n",
            "│ 12 │ ich suche auf       │ Yo intento           │ J'essaie        │ I try         │\n",
            "├────┼─────────────────────┼──────────────────────┼─────────────────┼───────────────┤\n",
            "│ 13 │ Ich habe gewonnen![ │ Gané.                │ J'ai gagné      │ I won         │\n",
            "├────┼─────────────────────┼──────────────────────┼─────────────────┼───────────────┤\n",
            "│ 14 │ Oh nein             │ Oh no                │ Oh non          │ Oh no         │\n",
            "╘════╧═════════════════════╧══════════════════════╧═════════════════╧═══════════════╛\n"
          ]
        }
      ]
    },
    {
      "cell_type": "code",
      "source": [],
      "metadata": {
        "id": "179DdfDc9-ma"
      },
      "execution_count": null,
      "outputs": []
    }
  ],
  "metadata": {
    "colab": {
      "provenance": []
    },
    "kernelspec": {
      "display_name": "Python 3",
      "name": "python3"
    },
    "language_info": {
      "name": "python"
    }
  },
  "nbformat": 4,
  "nbformat_minor": 0
}

{
  "cells": [
    {
      "cell_type": "markdown",
      "metadata": {
        "id": "gL3FVgpGMrbs"
      },
      "source": [
        "**Import Libraries**"
      ]
    },
    {
      "cell_type": "code",
      "source": [
        "pip install nltk"
      ],
      "metadata": {
        "id": "xXHAHIAA5reN"
      },
      "execution_count": null,
      "outputs": []
    },
    {
      "cell_type": "code",
      "source": [
        "pip install spacy==2.3.5"
      ],
      "metadata": {
        "id": "ZnaTz_omYkg7"
      },
      "execution_count": null,
      "outputs": []
    },
    {
      "cell_type": "code",
      "source": [
        "pip install https://github.com/explosion/spacy-models/releases/download/en_core_web_sm-2.3.1/en_core_web_sm-2.3.1.tar.gz"
      ],
      "metadata": {
        "id": "ykdUfDLX5EBW"
      },
      "execution_count": null,
      "outputs": []
    },
    {
      "cell_type": "code",
      "source": [
        "pip install pyresparser"
      ],
      "metadata": {
        "id": "N_qURzXA5KfH"
      },
      "execution_count": null,
      "outputs": []
    },
    {
      "cell_type": "markdown",
      "source": [
        "**Import Dataset**"
      ],
      "metadata": {
        "id": "h0Q7C-1ygiQL"
      }
    },
    {
      "cell_type": "code",
      "source": [
        "import pandas as pd\n",
        "import numpy as np\n",
        "import matplotlib.pyplot as plt\n",
        "import seaborn as sns\n",
        "from pyresparser import ResumeParser\n",
        "import warnings\n",
        "warnings.filterwarnings('ignore')\n",
        "\n",
        "res=ResumeParser('/content/drive/MyDrive/Resume/18022023/Sabarinathan_ DS_Resume_v1.0.pdf').get_extracted_data()\n",
        "skill_set=np.array(res['skills'])\n",
        "skill_set=np.char.lower(skill_set)\n",
        "\n",
        "skills_matches=[]\n",
        "skills_elem=[]\n",
        "\n",
        "print('\\t\\t\\t\\t\\tHR Resume Filter\\n','\\t\\t\\t\\t\\t####################')\n",
        "skill=input('\\nEnter The Skills : Note:[enter like '\"SQL Python\"']\\n')\n",
        "skills_hr=skill.split(\" \")\n",
        "skills_hr=np.array(skills_hr)\n",
        "skills_hr=np.char.lower(skills_hr)\n",
        "perc='{:.2f}'.format(100/len(skills_hr))\n",
        "print('\\n')\n",
        "\n",
        "for elem in skills_hr:\n",
        "  if elem in skill_set:\n",
        "    skills_matches.append(float(perc))\n",
        "    skills_elem.append(elem)\n",
        "  else:\n",
        "    skills_matches.append(0)\n",
        "    skills_elem.append(elem)\n",
        "\n",
        "\n",
        "plt.figure(figsize=(15,4))\n",
        "plt.bar(skills_elem,skills_matches,width=0.3,color='maroon')\n",
        "plt.xlabel(\"Skills\")\n",
        "plt.ylabel(\"Percentage\")\n",
        "plt.title(\"Skill Overview\")\n",
        "plt.show()\n",
        "\n",
        "sum_val='{:.2f}'.format(sum(skills_matches))\n",
        "sum_val=float(sum_val)\n",
        "\n",
        "print('\\n\\t\\tResult : ','\\n\\t\\t############','\\n\\t\\tCandidate should have minimum 70%')\n",
        "if sum_val >= 70 :\n",
        "  print(f'\\n\\t\\tThis candidate score is {sum_val}% , Selected')\n",
        "else:\n",
        "  print(f'\\n\\t\\tThis candidate score is {sum_val}% , Not Selected')      "
      ],
      "metadata": {
        "colab": {
          "base_uri": "https://localhost:8080/",
          "height": 521
        },
        "id": "0i8eQM5vvP4A",
        "outputId": "c3c2c959-fd7d-480d-9077-5e25fec8312d"
      },
      "execution_count": 247,
      "outputs": [
        {
          "output_type": "stream",
          "name": "stdout",
          "text": [
            "\t\t\t\t\tHR Resume Filter\n",
            " \t\t\t\t\t####################\n",
            "\n",
            "Enter The Skills : Note:[enter like SQL Python]\n",
            "SQL Python Mongo DBMS analysis maths Java\n",
            "\n",
            "\n"
          ]
        },
        {
          "output_type": "display_data",
          "data": {
            "text/plain": [
              "<Figure size 1080x288 with 1 Axes>"
            ],
            "image/png": "[encoded data removed]"
          },
          "metadata": {
            "needs_background": "light"
          }
        },
        {
          "output_type": "stream",
          "name": "stdout",
          "text": [
            "\n",
            "\t\tResult :  \n",
            "\t\t############ \n",
            "\t\tCandidate should have minimum 70%\n",
            "\n",
            "\t\tThis candidate score is 42.87% , Not Selected\n"
          ]
        }
      ]
    },
    {
      "cell_type": "code",
      "source": [],
      "metadata": {
        "id": "Bbt8M3Sq6mQV"
      },
      "execution_count": null,
      "outputs": []
    }
  ],
  "metadata": {
    "colab": {
      "provenance": []
    },
    "kernelspec": {
      "display_name": "Python 3",
      "name": "python3"
    },
    "language_info": {
      "name": "python"
    }
  },
  "nbformat": 4,
  "nbformat_minor": 0
}
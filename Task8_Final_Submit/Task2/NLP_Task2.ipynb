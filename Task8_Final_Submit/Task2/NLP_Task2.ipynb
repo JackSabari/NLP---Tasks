{
  "cells": [
    {
      "cell_type": "markdown",
      "metadata": {
        "id": "gL3FVgpGMrbs"
      },
      "source": [
        "**Import Libraries**"
      ]
    },
    {
      "cell_type": "code",
      "execution_count": 58,
      "metadata": {
        "id": "6hXo5FhOvRjE"
      },
      "outputs": [],
      "source": [
        "import pandas as pd\n",
        "import nltk\n",
        "import spacy\n",
        "from textblob import TextBlob\n",
        "import re\n",
        "from tabulate import tabulate"
      ]
    },
    {
      "cell_type": "code",
      "execution_count": 59,
      "metadata": {
        "colab": {
          "base_uri": "https://localhost:8080/"
        },
        "id": "bw4BsrymTDYP",
        "outputId": "98a15b40-6dbf-4af4-f0ad-38e3990efc3d"
      },
      "outputs": [
        {
          "output_type": "stream",
          "name": "stderr",
          "text": [
            "[nltk_data] Downloading package punkt to /root/nltk_data...\n",
            "[nltk_data]   Package punkt is already up-to-date!\n"
          ]
        },
        {
          "output_type": "execute_result",
          "data": {
            "text/plain": [
              "True"
            ]
          },
          "metadata": {},
          "execution_count": 59
        }
      ],
      "source": [
        "nltk.download('punkt')"
      ]
    },
    {
      "cell_type": "markdown",
      "source": [
        "**Import Dataset**"
      ],
      "metadata": {
        "id": "h0Q7C-1ygiQL"
      }
    },
    {
      "cell_type": "code",
      "execution_count": 60,
      "metadata": {
        "id": "DOZkPdiWMq8M"
      },
      "outputs": [],
      "source": [
        "df=pd.read_csv('/content/drive/MyDrive/Task8/English.csv')"
      ]
    },
    {
      "cell_type": "code",
      "execution_count": 61,
      "metadata": {
        "id": "lgv_MJguNRyw",
        "colab": {
          "base_uri": "https://localhost:8080/",
          "height": 206
        },
        "outputId": "cd9f5c19-bc6f-4ecf-b1ec-5493df41fdc0"
      },
      "outputs": [
        {
          "output_type": "execute_result",
          "data": {
            "text/plain": [
              "  English words/sentences\n",
              "0                     Hi.\n",
              "1                    Run!\n",
              "2                    Run!\n",
              "3                    Who?\n",
              "4                    Wow!"
            ],
            "text/html": [
              "\n",
              "  <div id=\"df-8ce33e57-2019-411e-8e44-92468e058da6\">\n",
              "    <div class=\"colab-df-container\">\n",
              "      <div>\n",
              "<style scoped>\n",
              "    .dataframe tbody tr th:only-of-type {\n",
              "        vertical-align: middle;\n",
              "    }\n",
              "\n",
              "    .dataframe tbody tr th {\n",
              "        vertical-align: top;\n",
              "    }\n",
              "\n",
              "    .dataframe thead th {\n",
              "        text-align: right;\n",
              "    }\n",
              "</style>\n",
              "<table border=\"1\" class=\"dataframe\">\n",
              "  <thead>\n",
              "    <tr style=\"text-align: right;\">\n",
              "      <th></th>\n",
              "      <th>English words/sentences</th>\n",
              "    </tr>\n",
              "  </thead>\n",
              "  <tbody>\n",
              "    <tr>\n",
              "      <th>0</th>\n",
              "      <td>Hi.</td>\n",
              "    </tr>\n",
              "    <tr>\n",
              "      <th>1</th>\n",
              "      <td>Run!</td>\n",
              "    </tr>\n",
              "    <tr>\n",
              "      <th>2</th>\n",
              "      <td>Run!</td>\n",
              "    </tr>\n",
              "    <tr>\n",
              "      <th>3</th>\n",
              "      <td>Who?</td>\n",
              "    </tr>\n",
              "    <tr>\n",
              "      <th>4</th>\n",
              "      <td>Wow!</td>\n",
              "    </tr>\n",
              "  </tbody>\n",
              "</table>\n",
              "</div>\n",
              "      <button class=\"colab-df-convert\" onclick=\"convertToInteractive('df-8ce33e57-2019-411e-8e44-92468e058da6')\"\n",
              "              title=\"Convert this dataframe to an interactive table.\"\n",
              "              style=\"display:none;\">\n",
              "        \n",
              "  <svg xmlns=\"http://www.w3.org/2000/svg\" height=\"24px\"viewBox=\"0 0 24 24\"\n",
              "       width=\"24px\">\n",
              "    <path d=\"M0 0h24v24H0V0z\" fill=\"none\"/>\n",
              "    <path d=\"M18.56 5.44l.94 2.06.94-2.06 2.06-.94-2.06-.94-.94-2.06-.94 2.06-2.06.94zm-11 1L8.5 8.5l.94-2.06 2.06-.94-2.06-.94L8.5 2.5l-.94 2.06-2.06.94zm10 10l.94 2.06.94-2.06 2.06-.94-2.06-.94-.94-2.06-.94 2.06-2.06.94z\"/><path d=\"M17.41 7.96l-1.37-1.37c-.4-.4-.92-.59-1.43-.59-.52 0-1.04.2-1.43.59L10.3 9.45l-7.72 7.72c-.78.78-.78 2.05 0 2.83L4 21.41c.39.39.9.59 1.41.59.51 0 1.02-.2 1.41-.59l7.78-7.78 2.81-2.81c.8-.78.8-2.07 0-2.86zM5.41 20L4 18.59l7.72-7.72 1.47 1.35L5.41 20z\"/>\n",
              "  </svg>\n",
              "      </button>\n",
              "      \n",
              "  <style>\n",
              "    .colab-df-container {\n",
              "      display:flex;\n",
              "      flex-wrap:wrap;\n",
              "      gap: 12px;\n",
              "    }\n",
              "\n",
              "    .colab-df-convert {\n",
              "      background-color: #E8F0FE;\n",
              "      border: none;\n",
              "      border-radius: 50%;\n",
              "      cursor: pointer;\n",
              "      display: none;\n",
              "      fill: #1967D2;\n",
              "      height: 32px;\n",
              "      padding: 0 0 0 0;\n",
              "      width: 32px;\n",
              "    }\n",
              "\n",
              "    .colab-df-convert:hover {\n",
              "      background-color: #E2EBFA;\n",
              "      box-shadow: 0px 1px 2px rgba(60, 64, 67, 0.3), 0px 1px 3px 1px rgba(60, 64, 67, 0.15);\n",
              "      fill: #174EA6;\n",
              "    }\n",
              "\n",
              "    [theme=dark] .colab-df-convert {\n",
              "      background-color: #3B4455;\n",
              "      fill: #D2E3FC;\n",
              "    }\n",
              "\n",
              "    [theme=dark] .colab-df-convert:hover {\n",
              "      background-color: #434B5C;\n",
              "      box-shadow: 0px 1px 3px 1px rgba(0, 0, 0, 0.15);\n",
              "      filter: drop-shadow(0px 1px 2px rgba(0, 0, 0, 0.3));\n",
              "      fill: #FFFFFF;\n",
              "    }\n",
              "  </style>\n",
              "\n",
              "      <script>\n",
              "        const buttonEl =\n",
              "          document.querySelector('#df-8ce33e57-2019-411e-8e44-92468e058da6 button.colab-df-convert');\n",
              "        buttonEl.style.display =\n",
              "          google.colab.kernel.accessAllowed ? 'block' : 'none';\n",
              "\n",
              "        async function convertToInteractive(key) {\n",
              "          const element = document.querySelector('#df-8ce33e57-2019-411e-8e44-92468e058da6');\n",
              "          const dataTable =\n",
              "            await google.colab.kernel.invokeFunction('convertToInteractive',\n",
              "                                                     [key], {});\n",
              "          if (!dataTable) return;\n",
              "\n",
              "          const docLinkHtml = 'Like what you see? Visit the ' +\n",
              "            '<a target=\"_blank\" href=https://colab.research.google.com/notebooks/data_table.ipynb>data table notebook</a>'\n",
              "            + ' to learn more about interactive tables.';\n",
              "          element.innerHTML = '';\n",
              "          dataTable['output_type'] = 'display_data';\n",
              "          await google.colab.output.renderOutput(dataTable, element);\n",
              "          const docLink = document.createElement('div');\n",
              "          docLink.innerHTML = docLinkHtml;\n",
              "          element.appendChild(docLink);\n",
              "        }\n",
              "      </script>\n",
              "    </div>\n",
              "  </div>\n",
              "  "
            ]
          },
          "metadata": {},
          "execution_count": 61
        }
      ],
      "source": [
        "df.head()    "
      ]
    },
    {
      "cell_type": "markdown",
      "source": [
        "**Remove Non-Alpha Numeric Characters**"
      ],
      "metadata": {
        "id": "ARBzUddeEFiM"
      }
    },
    {
      "cell_type": "code",
      "source": [
        "val=df.values.tolist()\n",
        "listOfvalues=[]\n",
        "for elem in val:\n",
        "  for elem1 in elem:\n",
        "    filteredText=re.sub(\"[^A-Za-z0-9']+\", \" \",elem1)\n",
        "    listOfvalues.append(filteredText)\n",
        "cleaned_val=pd.DataFrame(listOfvalues,columns=['cleaned_text'])"
      ],
      "metadata": {
        "id": "33kt8uSpYqMh"
      },
      "execution_count": 62,
      "outputs": []
    },
    {
      "cell_type": "markdown",
      "source": [
        "**Remove Duplicates & Lowercase the df values**"
      ],
      "metadata": {
        "id": "P4swqqWHEITr"
      }
    },
    {
      "cell_type": "code",
      "source": [
        "uniq_df=pd.DataFrame(pd.unique(cleaned_val['cleaned_text']),columns=['cleaned_text'])\n",
        "uniq_df=uniq_df['cleaned_text'].str.lower()\n",
        "uniq_df=pd.DataFrame(uniq_df)\n",
        "uniq_df"
      ],
      "metadata": {
        "colab": {
          "base_uri": "https://localhost:8080/",
          "height": 423
        },
        "id": "ATxF-idCdVFK",
        "outputId": "f4ed84d0-13b5-488a-c9c2-9b1ae5e589be"
      },
      "execution_count": 63,
      "outputs": [
        {
          "output_type": "execute_result",
          "data": {
            "text/plain": [
              "                                             cleaned_text\n",
              "0                                                     hi \n",
              "1                                                    run \n",
              "2                                                    who \n",
              "3                                                    wow \n",
              "4                                                   fire \n",
              "...                                                   ...\n",
              "122953  top down economics never works said obama the ...\n",
              "122954  a carbon footprint is the amount of carbon dio...\n",
              "122955  death is something that we're often discourage...\n",
              "122956  since there are usually multiple websites on a...\n",
              "122957  if someone who doesn't know your background sa...\n",
              "\n",
              "[122958 rows x 1 columns]"
            ],
            "text/html": [
              "\n",
              "  <div id=\"df-6a86839e-2501-440d-adb6-04463e9f5484\">\n",
              "    <div class=\"colab-df-container\">\n",
              "      <div>\n",
              "<style scoped>\n",
              "    .dataframe tbody tr th:only-of-type {\n",
              "        vertical-align: middle;\n",
              "    }\n",
              "\n",
              "    .dataframe tbody tr th {\n",
              "        vertical-align: top;\n",
              "    }\n",
              "\n",
              "    .dataframe thead th {\n",
              "        text-align: right;\n",
              "    }\n",
              "</style>\n",
              "<table border=\"1\" class=\"dataframe\">\n",
              "  <thead>\n",
              "    <tr style=\"text-align: right;\">\n",
              "      <th></th>\n",
              "      <th>cleaned_text</th>\n",
              "    </tr>\n",
              "  </thead>\n",
              "  <tbody>\n",
              "    <tr>\n",
              "      <th>0</th>\n",
              "      <td>hi</td>\n",
              "    </tr>\n",
              "    <tr>\n",
              "      <th>1</th>\n",
              "      <td>run</td>\n",
              "    </tr>\n",
              "    <tr>\n",
              "      <th>2</th>\n",
              "      <td>who</td>\n",
              "    </tr>\n",
              "    <tr>\n",
              "      <th>3</th>\n",
              "      <td>wow</td>\n",
              "    </tr>\n",
              "    <tr>\n",
              "      <th>4</th>\n",
              "      <td>fire</td>\n",
              "    </tr>\n",
              "    <tr>\n",
              "      <th>...</th>\n",
              "      <td>...</td>\n",
              "    </tr>\n",
              "    <tr>\n",
              "      <th>122953</th>\n",
              "      <td>top down economics never works said obama the ...</td>\n",
              "    </tr>\n",
              "    <tr>\n",
              "      <th>122954</th>\n",
              "      <td>a carbon footprint is the amount of carbon dio...</td>\n",
              "    </tr>\n",
              "    <tr>\n",
              "      <th>122955</th>\n",
              "      <td>death is something that we're often discourage...</td>\n",
              "    </tr>\n",
              "    <tr>\n",
              "      <th>122956</th>\n",
              "      <td>since there are usually multiple websites on a...</td>\n",
              "    </tr>\n",
              "    <tr>\n",
              "      <th>122957</th>\n",
              "      <td>if someone who doesn't know your background sa...</td>\n",
              "    </tr>\n",
              "  </tbody>\n",
              "</table>\n",
              "<p>122958 rows × 1 columns</p>\n",
              "</div>\n",
              "      <button class=\"colab-df-convert\" onclick=\"convertToInteractive('df-6a86839e-2501-440d-adb6-04463e9f5484')\"\n",
              "              title=\"Convert this dataframe to an interactive table.\"\n",
              "              style=\"display:none;\">\n",
              "        \n",
              "  <svg xmlns=\"http://www.w3.org/2000/svg\" height=\"24px\"viewBox=\"0 0 24 24\"\n",
              "       width=\"24px\">\n",
              "    <path d=\"M0 0h24v24H0V0z\" fill=\"none\"/>\n",
              "    <path d=\"M18.56 5.44l.94 2.06.94-2.06 2.06-.94-2.06-.94-.94-2.06-.94 2.06-2.06.94zm-11 1L8.5 8.5l.94-2.06 2.06-.94-2.06-.94L8.5 2.5l-.94 2.06-2.06.94zm10 10l.94 2.06.94-2.06 2.06-.94-2.06-.94-.94-2.06-.94 2.06-2.06.94z\"/><path d=\"M17.41 7.96l-1.37-1.37c-.4-.4-.92-.59-1.43-.59-.52 0-1.04.2-1.43.59L10.3 9.45l-7.72 7.72c-.78.78-.78 2.05 0 2.83L4 21.41c.39.39.9.59 1.41.59.51 0 1.02-.2 1.41-.59l7.78-7.78 2.81-2.81c.8-.78.8-2.07 0-2.86zM5.41 20L4 18.59l7.72-7.72 1.47 1.35L5.41 20z\"/>\n",
              "  </svg>\n",
              "      </button>\n",
              "      \n",
              "  <style>\n",
              "    .colab-df-container {\n",
              "      display:flex;\n",
              "      flex-wrap:wrap;\n",
              "      gap: 12px;\n",
              "    }\n",
              "\n",
              "    .colab-df-convert {\n",
              "      background-color: #E8F0FE;\n",
              "      border: none;\n",
              "      border-radius: 50%;\n",
              "      cursor: pointer;\n",
              "      display: none;\n",
              "      fill: #1967D2;\n",
              "      height: 32px;\n",
              "      padding: 0 0 0 0;\n",
              "      width: 32px;\n",
              "    }\n",
              "\n",
              "    .colab-df-convert:hover {\n",
              "      background-color: #E2EBFA;\n",
              "      box-shadow: 0px 1px 2px rgba(60, 64, 67, 0.3), 0px 1px 3px 1px rgba(60, 64, 67, 0.15);\n",
              "      fill: #174EA6;\n",
              "    }\n",
              "\n",
              "    [theme=dark] .colab-df-convert {\n",
              "      background-color: #3B4455;\n",
              "      fill: #D2E3FC;\n",
              "    }\n",
              "\n",
              "    [theme=dark] .colab-df-convert:hover {\n",
              "      background-color: #434B5C;\n",
              "      box-shadow: 0px 1px 3px 1px rgba(0, 0, 0, 0.15);\n",
              "      filter: drop-shadow(0px 1px 2px rgba(0, 0, 0, 0.3));\n",
              "      fill: #FFFFFF;\n",
              "    }\n",
              "  </style>\n",
              "\n",
              "      <script>\n",
              "        const buttonEl =\n",
              "          document.querySelector('#df-6a86839e-2501-440d-adb6-04463e9f5484 button.colab-df-convert');\n",
              "        buttonEl.style.display =\n",
              "          google.colab.kernel.accessAllowed ? 'block' : 'none';\n",
              "\n",
              "        async function convertToInteractive(key) {\n",
              "          const element = document.querySelector('#df-6a86839e-2501-440d-adb6-04463e9f5484');\n",
              "          const dataTable =\n",
              "            await google.colab.kernel.invokeFunction('convertToInteractive',\n",
              "                                                     [key], {});\n",
              "          if (!dataTable) return;\n",
              "\n",
              "          const docLinkHtml = 'Like what you see? Visit the ' +\n",
              "            '<a target=\"_blank\" href=https://colab.research.google.com/notebooks/data_table.ipynb>data table notebook</a>'\n",
              "            + ' to learn more about interactive tables.';\n",
              "          element.innerHTML = '';\n",
              "          dataTable['output_type'] = 'display_data';\n",
              "          await google.colab.output.renderOutput(dataTable, element);\n",
              "          const docLink = document.createElement('div');\n",
              "          docLink.innerHTML = docLinkHtml;\n",
              "          element.appendChild(docLink);\n",
              "        }\n",
              "      </script>\n",
              "    </div>\n",
              "  </div>\n",
              "  "
            ]
          },
          "metadata": {},
          "execution_count": 63
        }
      ]
    },
    {
      "cell_type": "markdown",
      "source": [
        "**Check the TextBlob lib**"
      ],
      "metadata": {
        "id": "WGClUtn3gNN4"
      }
    },
    {
      "cell_type": "code",
      "source": [
        "TextBlob('Sceince').correct()"
      ],
      "metadata": {
        "colab": {
          "base_uri": "https://localhost:8080/"
        },
        "id": "QTy0fU6GTCdE",
        "outputId": "46c7b534-f27b-4554-99c6-9e47ad640d05"
      },
      "execution_count": 64,
      "outputs": [
        {
          "output_type": "execute_result",
          "data": {
            "text/plain": [
              "TextBlob(\"Science\")"
            ]
          },
          "metadata": {},
          "execution_count": 64
        }
      ]
    },
    {
      "cell_type": "markdown",
      "source": [
        "**Spell Correction**"
      ],
      "metadata": {
        "id": "pI3Xd1P2ENdk"
      }
    },
    {
      "cell_type": "code",
      "source": [
        "uniq=uniq_df.head(100)\n",
        "\n",
        "corrected_spell=uniq['cleaned_text'].apply(lambda x: str(TextBlob(x).correct()))\n",
        "corr_spell=pd.DataFrame(corrected_spell)\n",
        "uniq_val=pd.DataFrame(uniq)\n",
        "res_df=uniq_val.join(corr_spell ,lsuffix='_')\n",
        "#print(tabulate(corr_spell,tablefmt='fancy_grid',headers=['Spell_Correction']))\n",
        "print('\\tSpell Correction','\\n\\t################\\n')\n",
        "print(tabulate(res_df,tablefmt='fancy_grid',headers=['src','spell_corrected']))"
      ],
      "metadata": {
        "id": "179DdfDc9-ma",
        "colab": {
          "base_uri": "https://localhost:8080/"
        },
        "outputId": "bad39bea-9bc0-476f-fbb4-5ddc747ab26c"
      },
      "execution_count": 65,
      "outputs": [
        {
          "output_type": "stream",
          "name": "stdout",
          "text": [
            "\tSpell Correction \n",
            "\t################\n",
            "\n",
            "╒════╤═════════╤═══════════════════╕\n",
            "│    │ src     │ spell_corrected   │\n",
            "╞════╪═════════╪═══════════════════╡\n",
            "│  0 │ hi      │ hi                │\n",
            "├────┼─────────┼───────────────────┤\n",
            "│  1 │ run     │ run               │\n",
            "├────┼─────────┼───────────────────┤\n",
            "│  2 │ who     │ who               │\n",
            "├────┼─────────┼───────────────────┤\n",
            "│  3 │ wow     │ now               │\n",
            "├────┼─────────┼───────────────────┤\n",
            "│  4 │ fire    │ fire              │\n",
            "├────┼─────────┼───────────────────┤\n",
            "│  5 │ help    │ help              │\n",
            "├────┼─────────┼───────────────────┤\n",
            "│  6 │ jump    │ jump              │\n",
            "├────┼─────────┼───────────────────┤\n",
            "│  7 │ stop    │ stop              │\n",
            "├────┼─────────┼───────────────────┤\n",
            "│  8 │ wait    │ wait              │\n",
            "├────┼─────────┼───────────────────┤\n",
            "│  9 │ go on   │ go on             │\n",
            "├────┼─────────┼───────────────────┤\n",
            "│ 10 │ hello   │ hello             │\n",
            "├────┼─────────┼───────────────────┤\n",
            "│ 11 │ i see   │ i see             │\n",
            "├────┼─────────┼───────────────────┤\n",
            "│ 12 │ i try   │ i try             │\n",
            "├────┼─────────┼───────────────────┤\n",
            "│ 13 │ i won   │ i won             │\n",
            "├────┼─────────┼───────────────────┤\n",
            "│ 14 │ oh no   │ oh no             │\n",
            "├────┼─────────┼───────────────────┤\n",
            "│ 15 │ attack  │ attack            │\n",
            "├────┼─────────┼───────────────────┤\n",
            "│ 16 │ cheers  │ cheers            │\n",
            "├────┼─────────┼───────────────────┤\n",
            "│ 17 │ get up  │ get up            │\n",
            "├────┼─────────┼───────────────────┤\n",
            "│ 18 │ go now  │ go now            │\n",
            "├────┼─────────┼───────────────────┤\n",
            "│ 19 │ got it  │ got it            │\n",
            "├────┼─────────┼───────────────────┤\n",
            "│ 20 │ hop in  │ hop in            │\n",
            "├────┼─────────┼───────────────────┤\n",
            "│ 21 │ hug me  │ hug me            │\n",
            "├────┼─────────┼───────────────────┤\n",
            "│ 22 │ i fell  │ i fell            │\n",
            "├────┼─────────┼───────────────────┤\n",
            "│ 23 │ i know  │ i know            │\n",
            "├────┼─────────┼───────────────────┤\n",
            "│ 24 │ i left  │ i left            │\n",
            "├────┼─────────┼───────────────────┤\n",
            "│ 25 │ i lied  │ i lied            │\n",
            "├────┼─────────┼───────────────────┤\n",
            "│ 26 │ i lost  │ i lost            │\n",
            "├────┼─────────┼───────────────────┤\n",
            "│ 27 │ i paid  │ i paid            │\n",
            "├────┼─────────┼───────────────────┤\n",
            "│ 28 │ i'm 19  │ i'm 19            │\n",
            "├────┼─────────┼───────────────────┤\n",
            "│ 29 │ i'm ok  │ i'm ok            │\n",
            "├────┼─────────┼───────────────────┤\n",
            "│ 30 │ listen  │ listen            │\n",
            "├────┼─────────┼───────────────────┤\n",
            "│ 31 │ no way  │ no way            │\n",
            "├────┼─────────┼───────────────────┤\n",
            "│ 32 │ really  │ really            │\n",
            "├────┼─────────┼───────────────────┤\n",
            "│ 33 │ thanks  │ thanks            │\n",
            "├────┼─────────┼───────────────────┤\n",
            "│ 34 │ we try  │ we try            │\n",
            "├────┼─────────┼───────────────────┤\n",
            "│ 35 │ we won  │ we won            │\n",
            "├────┼─────────┼───────────────────┤\n",
            "│ 36 │ ask tom │ ask tom           │\n",
            "├────┼─────────┼───────────────────┤\n",
            "│ 37 │ awesome │ awesome           │\n",
            "├────┼─────────┼───────────────────┤\n",
            "│ 38 │ be calm │ be calm           │\n",
            "├────┼─────────┼───────────────────┤\n",
            "│ 39 │ be cool │ be cool           │\n",
            "├────┼─────────┼───────────────────┤\n",
            "│ 40 │ be fair │ be fair           │\n",
            "├────┼─────────┼───────────────────┤\n",
            "│ 41 │ be kind │ be kind           │\n",
            "├────┼─────────┼───────────────────┤\n",
            "│ 42 │ be nice │ be nice           │\n",
            "├────┼─────────┼───────────────────┤\n",
            "│ 43 │ beat it │ beat it           │\n",
            "├────┼─────────┼───────────────────┤\n",
            "│ 44 │ call me │ call me           │\n",
            "├────┼─────────┼───────────────────┤\n",
            "│ 45 │ call us │ call us           │\n",
            "├────┼─────────┼───────────────────┤\n",
            "│ 46 │ come in │ come in           │\n",
            "├────┼─────────┼───────────────────┤\n",
            "│ 47 │ come on │ come on           │\n",
            "├────┼─────────┼───────────────────┤\n",
            "│ 48 │ drop it │ drop it           │\n",
            "├────┼─────────┼───────────────────┤\n",
            "│ 49 │ get tom │ get tom           │\n",
            "├────┼─────────┼───────────────────┤\n",
            "│ 50 │ get out │ get out           │\n",
            "├────┼─────────┼───────────────────┤\n",
            "│ 51 │ go away │ go away           │\n",
            "├────┼─────────┼───────────────────┤\n",
            "│ 52 │ go home │ go home           │\n",
            "├────┼─────────┼───────────────────┤\n",
            "│ 53 │ go slow │ go slow           │\n",
            "├────┼─────────┼───────────────────┤\n",
            "│ 54 │ goodbye │ goodby            │\n",
            "├────┼─────────┼───────────────────┤\n",
            "│ 55 │ hang on │ hang on           │\n",
            "├────┼─────────┼───────────────────┤\n",
            "│ 56 │ he quit │ he quit           │\n",
            "├────┼─────────┼───────────────────┤\n",
            "│ 57 │ he runs │ he runs           │\n",
            "├────┼─────────┼───────────────────┤\n",
            "│ 58 │ help me │ help me           │\n",
            "├────┼─────────┼───────────────────┤\n",
            "│ 59 │ help us │ help us           │\n",
            "├────┼─────────┼───────────────────┤\n",
            "│ 60 │ hold it │ hold it           │\n",
            "├────┼─────────┼───────────────────┤\n",
            "│ 61 │ hold on │ hold on           │\n",
            "├────┼─────────┼───────────────────┤\n",
            "│ 62 │ hug tom │ hug tom           │\n",
            "├────┼─────────┼───────────────────┤\n",
            "│ 63 │ i agree │ i agree           │\n",
            "├────┼─────────┼───────────────────┤\n",
            "│ 64 │ i cried │ i cried           │\n",
            "├────┼─────────┼───────────────────┤\n",
            "│ 65 │ i dozed │ i dozed           │\n",
            "├────┼─────────┼───────────────────┤\n",
            "│ 66 │ i drive │ i drive           │\n",
            "├────┼─────────┼───────────────────┤\n",
            "│ 67 │ i smoke │ i smoke           │\n",
            "├────┼─────────┼───────────────────┤\n",
            "│ 68 │ i snore │ i snore           │\n",
            "├────┼─────────┼───────────────────┤\n",
            "│ 69 │ i stink │ i stink           │\n",
            "├────┼─────────┼───────────────────┤\n",
            "│ 70 │ i stood │ i stood           │\n",
            "├────┼─────────┼───────────────────┤\n",
            "│ 71 │ i swore │ i swore           │\n",
            "├────┼─────────┼───────────────────┤\n",
            "│ 72 │ i tried │ i tried           │\n",
            "├────┼─────────┼───────────────────┤\n",
            "│ 73 │ i waved │ i waved           │\n",
            "├────┼─────────┼───────────────────┤\n",
            "│ 74 │ i'll go │ i'll go           │\n",
            "├────┼─────────┼───────────────────┤\n",
            "│ 75 │ i'm tom │ i'm tom           │\n",
            "├────┼─────────┼───────────────────┤\n",
            "│ 76 │ i'm fat │ i'm fat           │\n",
            "├────┼─────────┼───────────────────┤\n",
            "│ 77 │ i'm fit │ i'm fit           │\n",
            "├────┼─────────┼───────────────────┤\n",
            "│ 78 │ i'm hit │ i'm hit           │\n",
            "├────┼─────────┼───────────────────┤\n",
            "│ 79 │ i'm ill │ i'm ill           │\n",
            "├────┼─────────┼───────────────────┤\n",
            "│ 80 │ i'm sad │ i'm sad           │\n",
            "├────┼─────────┼───────────────────┤\n",
            "│ 81 │ i'm shy │ i'm shy           │\n",
            "├────┼─────────┼───────────────────┤\n",
            "│ 82 │ i'm wet │ i'm wet           │\n",
            "├────┼─────────┼───────────────────┤\n",
            "│ 83 │ it's me │ it's me           │\n",
            "├────┼─────────┼───────────────────┤\n",
            "│ 84 │ join us │ join us           │\n",
            "├────┼─────────┼───────────────────┤\n",
            "│ 85 │ keep it │ keep it           │\n",
            "├────┼─────────┼───────────────────┤\n",
            "│ 86 │ kiss me │ kiss me           │\n",
            "├────┼─────────┼───────────────────┤\n",
            "│ 87 │ me too  │ me too            │\n",
            "├────┼─────────┼───────────────────┤\n",
            "│ 88 │ open up │ open up           │\n",
            "├────┼─────────┼───────────────────┤\n",
            "│ 89 │ perfect │ perfect           │\n",
            "├────┼─────────┼───────────────────┤\n",
            "│ 90 │ see you │ see you           │\n",
            "├────┼─────────┼───────────────────┤\n",
            "│ 91 │ show me │ show me           │\n",
            "├────┼─────────┼───────────────────┤\n",
            "│ 92 │ shut up │ shut up           │\n",
            "├────┼─────────┼───────────────────┤\n",
            "│ 93 │ skip it │ skin it           │\n",
            "├────┼─────────┼───────────────────┤\n",
            "│ 94 │ so long │ so long           │\n",
            "├────┼─────────┼───────────────────┤\n",
            "│ 95 │ take it │ take it           │\n",
            "├────┼─────────┼───────────────────┤\n",
            "│ 96 │ tell me │ tell me           │\n",
            "├────┼─────────┼───────────────────┤\n",
            "│ 97 │ tom won │ tom won           │\n",
            "├────┼─────────┼───────────────────┤\n",
            "│ 98 │ wake up │ wake up           │\n",
            "├────┼─────────┼───────────────────┤\n",
            "│ 99 │ wash up │ wash up           │\n",
            "╘════╧═════════╧═══════════════════╛\n"
          ]
        }
      ]
    },
    {
      "cell_type": "code",
      "source": [],
      "metadata": {
        "id": "b0B_a8jVWN3N"
      },
      "execution_count": 65,
      "outputs": []
    }
  ],
  "metadata": {
    "colab": {
      "provenance": []
    },
    "kernelspec": {
      "display_name": "Python 3",
      "name": "python3"
    },
    "language_info": {
      "name": "python"
    }
  },
  "nbformat": 4,
  "nbformat_minor": 0
}